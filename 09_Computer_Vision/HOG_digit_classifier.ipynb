{
  "nbformat": 4,
  "nbformat_minor": 0,
  "metadata": {
    "colab": {
      "provenance": [],
      "collapsed_sections": [],
      "include_colab_link": true
    },
    "kernelspec": {
      "name": "python3",
      "display_name": "Python 3"
    },
    "language_info": {
      "name": "python"
    }
  },
  "cells": [
    {
      "cell_type": "markdown",
      "metadata": {
        "id": "view-in-github",
        "colab_type": "text"
      },
      "source": [
        "<a href=\"https://colab.research.google.com/github/vinhtq-2618/basic-ml-course/blob/lec09/09_Computer_Vision/HOG_digit_classifier.ipynb\" target=\"_parent\"><img src=\"https://colab.research.google.com/assets/colab-badge.svg\" alt=\"Open In Colab\"/></a>"
      ]
    },
    {
      "cell_type": "markdown",
      "source": [
        "# Import necessary libraries"
      ],
      "metadata": {
        "id": "3WO5VVerisKW"
      }
    },
    {
      "cell_type": "code",
      "source": [
        "%matplotlib inline\n",
        "import matplotlib.pyplot as plt\n",
        "\n",
        "import numpy as np\n",
        "\n",
        "import copy\n",
        "\n",
        "from sklearn import metrics\n",
        "from sklearn.datasets import fetch_openml\n",
        "from sklearn.model_selection import train_test_split\n",
        "from sklearn.utils import check_random_state\n",
        "from sklearn.preprocessing import StandardScaler\n",
        "from sklearn.neural_network import MLPClassifier\n",
        "from skimage.feature import hog"
      ],
      "metadata": {
        "id": "_-Nr2HLzTf5F"
      },
      "execution_count": 1,
      "outputs": []
    },
    {
      "cell_type": "markdown",
      "source": [
        "# Load dataset\n",
        "In this example, we will use MNIST dataset. Read more about it [here](http://yann.lecun.com/exdb/mnist/).\n",
        "\n",
        "The MNIST database of handwritten digits has a total of 70,000 examples, each example is a 28x28 grayscale image."
      ],
      "metadata": {
        "id": "mMzsL0KfSPuk"
      }
    },
    {
      "cell_type": "code",
      "source": [
        "X, y = fetch_openml(\"mnist_784\", version=1, return_X_y=True, as_frame=False)\n",
        "print(\"Number of samples:\", X.shape[0])\n",
        "print(\"Number of labels:\", y.shape[0])\n",
        "print(\"Number of features:\", X.shape[1])  # 784 = 28 * 28, since the image is flattened from matrix to a 1-D vector."
      ],
      "metadata": {
        "colab": {
          "base_uri": "https://localhost:8080/"
        },
        "id": "OWvcJ4kcSTZ0",
        "outputId": "a1091511-0a08-4334-f764-c91151bbf037"
      },
      "execution_count": 2,
      "outputs": [
        {
          "output_type": "stream",
          "name": "stdout",
          "text": [
            "Number of samples: 70000\n",
            "Number of labels: 70000\n",
            "Number of features: 784\n"
          ]
        }
      ]
    },
    {
      "cell_type": "code",
      "source": [
        "# Show a sample in dataset\n",
        "sample_idx = 1  # Feel free to change this number and rerun code cell to visualize other sample\n",
        "sample = X[sample_idx]\n",
        "sample_image = np.reshape(sample, (28, 28))\n",
        "label = y[sample_idx]\n",
        "\n",
        "plt.title(f\"Class: {label}\")\n",
        "plt.imshow(sample_image, cmap=\"gray\")\n",
        "plt.show()"
      ],
      "metadata": {
        "colab": {
          "base_uri": "https://localhost:8080/",
          "height": 281
        },
        "id": "h-dYPIFzTZub",
        "outputId": "c508d91e-ca19-4a1d-d498-476e7821dd97"
      },
      "execution_count": 3,
      "outputs": [
        {
          "output_type": "display_data",
          "data": {
            "text/plain": [
              "<Figure size 432x288 with 1 Axes>"
            ],
            "image/png": "[encoded data removed]"
          },
          "metadata": {
            "needs_background": "light"
          }
        }
      ]
    },
    {
      "cell_type": "markdown",
      "source": [
        "## Split dataset into train and test set"
      ],
      "metadata": {
        "id": "mxQ9-US3VlHL"
      }
    },
    {
      "cell_type": "code",
      "source": [
        "seed_num = 1337\n",
        "random_state = check_random_state(seed_num)  # For ensuring consistency between executions"
      ],
      "metadata": {
        "id": "wW-PoJLNUDGZ"
      },
      "execution_count": 4,
      "outputs": []
    },
    {
      "cell_type": "code",
      "source": [
        "# Shuffle the dataset\n",
        "permutation = random_state.permutation(X.shape[0])\n",
        "X = X[permutation]\n",
        "y = y[permutation]"
      ],
      "metadata": {
        "id": "RS0ucd3HYMhA"
      },
      "execution_count": 5,
      "outputs": []
    },
    {
      "cell_type": "code",
      "source": [
        "X_train, X_test, y_train, y_test = train_test_split(X, y, train_size=60000, test_size=10000, random_state=random_state)"
      ],
      "metadata": {
        "id": "DIc0R_HIYcbj"
      },
      "execution_count": 6,
      "outputs": []
    },
    {
      "cell_type": "code",
      "source": [
        "sample_idx = 0  # Feel free to change this number and rerun code cell to visualize the example\n",
        "sample = X_train[sample_idx]\n",
        "sample_image = np.reshape(sample, (28, 28))\n",
        "label = y_train[sample_idx]\n",
        "\n",
        "plt.title(f\"Class: {label}\")\n",
        "plt.imshow(sample_image, cmap=\"gray\")\n",
        "plt.show()"
      ],
      "metadata": {
        "colab": {
          "base_uri": "https://localhost:8080/",
          "height": 281
        },
        "id": "duKTrkuiY-vQ",
        "outputId": "bad425e1-f776-4e23-fbb7-9b456d3e9630"
      },
      "execution_count": 7,
      "outputs": [
        {
          "output_type": "display_data",
          "data": {
            "text/plain": [
              "<Figure size 432x288 with 1 Axes>"
            ],
            "image/png": "[encoded data removed]"
          },
          "metadata": {
            "needs_background": "light"
          }
        }
      ]
    },
    {
      "cell_type": "markdown",
      "source": [
        "# Calculate HOG feature"
      ],
      "metadata": {
        "id": "T84wWBMSdaiz"
      }
    },
    {
      "cell_type": "code",
      "source": [
        "X_train_hog = []\n",
        "for x in X_train:\n",
        "    x_image = np.reshape(x, (28, 28))\n",
        "    hog_feature = hog(x_image)\n",
        "    X_train_hog.append(hog_feature)\n",
        "X_train_hog = np.array(X_train_hog)\n",
        "X_train_hog.shape"
      ],
      "metadata": {
        "colab": {
          "base_uri": "https://localhost:8080/"
        },
        "id": "PvCqhnzQdcjx",
        "outputId": "f7b88fe4-6614-46c2-e3b9-b8443351a9a2"
      },
      "execution_count": 8,
      "outputs": [
        {
          "output_type": "execute_result",
          "data": {
            "text/plain": [
              "(60000, 81)"
            ]
          },
          "metadata": {},
          "execution_count": 8
        }
      ]
    },
    {
      "cell_type": "code",
      "source": [
        "X_test_hog = []\n",
        "for x in X_test:\n",
        "    x_image = np.reshape(x, (28, 28))\n",
        "    hog_feature = hog(x_image)\n",
        "    X_test_hog.append(hog_feature)\n",
        "X_test_hog = np.array(X_test_hog)\n",
        "X_test_hog.shape"
      ],
      "metadata": {
        "colab": {
          "base_uri": "https://localhost:8080/"
        },
        "id": "vxWICtUmeCst",
        "outputId": "20876cf8-51dd-444d-e439-a544017803de"
      },
      "execution_count": 9,
      "outputs": [
        {
          "output_type": "execute_result",
          "data": {
            "text/plain": [
              "(10000, 81)"
            ]
          },
          "metadata": {},
          "execution_count": 9
        }
      ]
    },
    {
      "cell_type": "markdown",
      "source": [
        "# Normalize dataset"
      ],
      "metadata": {
        "id": "ZEBpEaJ8Y5jc"
      }
    },
    {
      "cell_type": "markdown",
      "source": [
        "We will use `StandardScaler` to normalize the features. Read more about it [here](https://scikit-learn.org/stable/modules/generated/sklearn.preprocessing.StandardScaler.html#sklearn.preprocessing.StandardScaler)."
      ],
      "metadata": {
        "id": "UR4VWfTGZPRm"
      }
    },
    {
      "cell_type": "code",
      "source": [
        "scaler = StandardScaler()\n",
        "X_train_hog_normalized = scaler.fit_transform(X_train_hog)\n",
        "X_test_hog_normalized = scaler.transform(X_test_hog)"
      ],
      "metadata": {
        "id": "hbX1fk-gYajF"
      },
      "execution_count": 10,
      "outputs": []
    },
    {
      "cell_type": "markdown",
      "source": [
        "# Train a simple Multi-layer Perception classifier"
      ],
      "metadata": {
        "id": "qAU9fh_9adxF"
      }
    },
    {
      "cell_type": "code",
      "source": [
        "clf = MLPClassifier(\n",
        "    hidden_layer_sizes=(100, 50, 10),\n",
        "    random_state=random_state,\n",
        "    max_iter=300,\n",
        "    activation='relu',\n",
        "    solver='adam'\n",
        ")"
      ],
      "metadata": {
        "id": "B3Vz7lzBZfVt"
      },
      "execution_count": 11,
      "outputs": []
    },
    {
      "cell_type": "code",
      "source": [
        "# Train the model with train set\n",
        "clf.fit(X_train_hog_normalized, y_train)"
      ],
      "metadata": {
        "colab": {
          "base_uri": "https://localhost:8080/"
        },
        "id": "kX8zbclMbglL",
        "outputId": "86ad4fee-ea98-46e2-841e-10a8ffe2ac5b"
      },
      "execution_count": 12,
      "outputs": [
        {
          "output_type": "execute_result",
          "data": {
            "text/plain": [
              "MLPClassifier(hidden_layer_sizes=(100, 50, 10), max_iter=300,\n",
              "              random_state=RandomState(MT19937) at 0x7FDCD0F625A0)"
            ]
          },
          "metadata": {},
          "execution_count": 12
        }
      ]
    },
    {
      "cell_type": "code",
      "source": [
        "# Predict the value on test set\n",
        "predictions = clf.predict(X_test_hog_normalized)"
      ],
      "metadata": {
        "id": "ULGCarFicCiM"
      },
      "execution_count": 13,
      "outputs": []
    },
    {
      "cell_type": "code",
      "source": [
        "_, axes = plt.subplots(nrows=2, ncols=5, figsize=(10, 5))\n",
        "for row_idx, row in enumerate(axes):\n",
        "    for ax, image, prediction in zip(row, X_test[row_idx * 5:row_idx * 5 + 5], predictions[row_idx * 5:row_idx * 5 + 5]):\n",
        "        ax.set_axis_off()\n",
        "        visualize_image = image.reshape(28, 28)\n",
        "        ax.imshow(visualize_image, cmap=\"gray\")\n",
        "        ax.set_title(f\"Prediction: {prediction}\")"
      ],
      "metadata": {
        "colab": {
          "base_uri": "https://localhost:8080/",
          "height": 291
        },
        "id": "osU9UYq7cngD",
        "outputId": "a0e0b071-2966-4c40-aefe-33390f9e53cb"
      },
      "execution_count": 14,
      "outputs": [
        {
          "output_type": "display_data",
          "data": {
            "text/plain": [
              "<Figure size 720x360 with 10 Axes>"
            ],
            "image/png": "[encoded data removed]"
          },
          "metadata": {
            "needs_background": "light"
          }
        }
      ]
    },
    {
      "cell_type": "code",
      "source": [
        "print(f\"Mean accuracy:\", clf.score(X_test_hog_normalized, y_test))"
      ],
      "metadata": {
        "colab": {
          "base_uri": "https://localhost:8080/"
        },
        "id": "-qB_PA24fi9u",
        "outputId": "712c1fc5-cf95-4de1-fac2-9ba6ebe70ba0"
      },
      "execution_count": 15,
      "outputs": [
        {
          "output_type": "stream",
          "name": "stdout",
          "text": [
            "Mean accuracy: 0.9708\n"
          ]
        }
      ]
    },
    {
      "cell_type": "code",
      "source": [
        "print(f\"Classification report for classifier {clf}:\")\n",
        "print(metrics.classification_report(y_test, predictions))"
      ],
      "metadata": {
        "colab": {
          "base_uri": "https://localhost:8080/"
        },
        "id": "WsD5PKzjfSCy",
        "outputId": "d6ac5f0a-e5d5-4785-ce32-ba6918140246"
      },
      "execution_count": 16,
      "outputs": [
        {
          "output_type": "stream",
          "name": "stdout",
          "text": [
            "Classification report for classifier MLPClassifier(hidden_layer_sizes=(100, 50, 10), max_iter=300,\n",
            "              random_state=RandomState(MT19937) at 0x7FDCD0F625A0):\n",
            "              precision    recall  f1-score   support\n",
            "\n",
            "           0       0.98      0.98      0.98       969\n",
            "           1       0.99      0.99      0.99      1100\n",
            "           2       0.97      0.97      0.97      1014\n",
            "           3       0.97      0.96      0.97      1044\n",
            "           4       0.97      0.98      0.97       972\n",
            "           5       0.97      0.98      0.98       886\n",
            "           6       0.98      0.99      0.99       970\n",
            "           7       0.97      0.95      0.96      1036\n",
            "           8       0.95      0.95      0.95       985\n",
            "           9       0.94      0.96      0.95      1024\n",
            "\n",
            "    accuracy                           0.97     10000\n",
            "   macro avg       0.97      0.97      0.97     10000\n",
            "weighted avg       0.97      0.97      0.97     10000\n",
            "\n"
          ]
        }
      ]
    }
  ]
}